{
  "nbformat": 4,
  "nbformat_minor": 0,
  "metadata": {
    "colab": {
      "name": "ComparingDifferentialPrivacyAlgorithms.ipynb",
      "provenance": [],
      "collapsed_sections": []
    },
    "kernelspec": {
      "name": "python3",
      "display_name": "Python 3"
    }
  },
  "cells": [
    {
      "cell_type": "code",
      "metadata": {
        "id": "iLKPE5lR6D9n",
        "outputId": "5d5ceda9-bcb2-4205-e253-55061fb40964",
        "colab": {
          "base_uri": "https://localhost:8080/"
        }
      },
      "source": [
        "from google.colab import drive\n",
        "drive.mount('/content/gdrive')"
      ],
      "execution_count": 1,
      "outputs": [
        {
          "output_type": "stream",
          "name": "stdout",
          "text": [
            "Mounted at /content/gdrive\n"
          ]
        }
      ]
    },
    {
      "cell_type": "code",
      "metadata": {
        "id": "hamPf98p5RrU",
        "outputId": "75e069f1-9e5a-472e-c4d1-a64ba3330a6b",
        "colab": {
          "base_uri": "https://localhost:8080/"
        }
      },
      "source": [
        "from numpy import genfromtxt\n",
        "\n",
        "with open('/content/gdrive/My Drive/weight-height.csv') as f:\n",
        "    my_data = genfromtxt(f, delimiter=',',skip_header=1,dtype=None)\n",
        "\n",
        "import warnings\n",
        "warnings.filterwarnings(\"ignore\", category=Warning)\n",
        "\n",
        "print(my_data)\n",
        "\n",
        "male_weight = []\n",
        "male_height = []\n",
        "female_weight = []\n",
        "female_height = []\n",
        "\n",
        "# Task1\n",
        "# x is height，y is weight\n",
        "def task1Function(heights,weights,heightsSquare,heightsWeights,n):\n",
        "    aNumerator = (weights * heightsSquare) - (heights*heightsWeights)\n",
        "    Denominator = n*heightsSquare - heights*heights\n",
        "    a = aNumerator/Denominator\n",
        "    bNumerator = n*heightsWeights - heights*weights\n",
        "    b = bNumerator/Denominator\n",
        "    return a,b\n",
        "\n",
        "def getHeightsSquare(heights):\n",
        "    ans = 0\n",
        "    for i in range(0,len(heights)):\n",
        "        ans = ans + heights[i] * heights[i]\n",
        "    return ans\n",
        "\n",
        "def getHeightsWeights(heights,weights):\n",
        "    ans = 0\n",
        "    for i in range(0,len(heights)):\n",
        "        ans = ans + heights[i] * weights[i]\n",
        "    return ans\n",
        "\n",
        "for data in my_data:\n",
        "  if data[0] == my_data[0][0]:\n",
        "    male_height.append(data[1])\n",
        "    male_weight.append(data[2])\n",
        "  else:\n",
        "    female_height.append(data[1])\n",
        "    female_weight.append(data[2])\n",
        "\n",
        "#print(len(male_height),len(male_weight))\n",
        "# together 10000 columns data\n",
        "# construct heights,weights,heightsSquare,heightsWeights,n\n",
        "n = len(male_weight)\n",
        "maleHeights = sum(male_height) \n",
        "femaleHeights = sum(female_height)\n",
        "maleWeights = sum(male_weight)\n",
        "femaleWeights = sum(female_weight)\n",
        "maleHeightsSquare = getHeightsSquare(male_height)\n",
        "femaleHeightsSquare = getHeightsSquare(female_height)\n",
        "maleHeightsWeights = getHeightsWeights(male_height,male_weight)\n",
        "femaleHeightsWeights = getHeightsWeights(female_height,female_weight)\n",
        "#print(heights,weights,heightsSquare,heightsWeights,n)\n",
        "maleA,maleB = task1Function(maleHeights,maleWeights,maleHeightsSquare,maleHeightsWeights,n)\n",
        "femaleA,femaleB = task1Function(femaleHeights,femaleWeights,femaleHeightsSquare,femaleHeightsWeights,n)\n",
        "print(maleA,maleB)\n",
        "print(femaleA,femaleB)\n",
        "# Task1 relation： Male Height=maleA+maleB*height Female Height=femaleA+femaleB*height\n",
        "\n",
        "\n",
        "## Task2\n",
        "f_T=maleWeights+female_weight"
      ],
      "execution_count": 8,
      "outputs": [
        {
          "output_type": "stream",
          "name": "stdout",
          "text": [
            "[(b'\"Male\"', 73.84701702, 241.89356318)\n",
            " (b'\"Male\"', 68.78190405, 162.31047252)\n",
            " (b'\"Male\"', 74.11010539, 212.74085556) ...\n",
            " (b'\"Female\"', 63.86799221, 128.47531878)\n",
            " (b'\"Female\"', 69.03424313, 163.85246135)\n",
            " (b'\"Female\"', 61.94424588, 113.64910268)]\n",
            "-224.49884070549294 5.961773812027977\n",
            "-246.01326574647294 5.994046614851223\n"
          ]
        }
      ]
    },
    {
      "cell_type": "markdown",
      "source": [
        "# New Section"
      ],
      "metadata": {
        "id": "UUDWJeaNNXAI"
      }
    },
    {
      "cell_type": "code",
      "source": [
        "from google.colab import drive\n",
        "drive.mount('/content/drive')"
      ],
      "metadata": {
        "colab": {
          "base_uri": "https://localhost:8080/"
        },
        "id": "fL3X6xlGNaej",
        "outputId": "e50804c6-2622-4cd8-cbf2-79c8df2c2148"
      },
      "execution_count": null,
      "outputs": [
        {
          "output_type": "stream",
          "name": "stdout",
          "text": [
            "Mounted at /content/drive\n"
          ]
        }
      ]
    },
    {
      "cell_type": "code",
      "metadata": {
        "id": "bDiEkb6_8MKl"
      },
      "source": [
        ""
      ],
      "execution_count": 4,
      "outputs": []
    },
    {
      "cell_type": "code",
      "metadata": {
        "id": "asdtZWNE8Nke"
      },
      "source": [
        ""
      ],
      "execution_count": null,
      "outputs": []
    }
  ]
}